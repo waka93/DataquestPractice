{
 "cells": [
  {
   "cell_type": "markdown",
   "metadata": {},
   "source": [
    "# Background\n",
    "\n",
    "Accidents are an unfortunate fact of air travel. Although flying is statistically safer than driving, minor and major flying accidents occur daily. In this project, we'll work with a data set of airplane accident statistics to analyze patterns and look for any common threads.\n",
    "\n",
    "We'll be working with a data set that contains 77,282 aviation accidents that occurred in the U.S., and the metadata associated with them. The data in our AviationData.txt file comes from the __[National Transportation Safety Board (NTSB)](https://www.ntsb.gov/Pages/default.aspx)__. You can download the file at __[data.gov](https://catalog.data.gov/dataset/aviation-data-and-documentation-from-the-ntsb-accident-database-system-05748/resource/4b1e95fe-91a7-4112-85fa-424d2672a906)__. Here's a preview:\n",
    "\n",
    "Event Id | Investigation Type | Accident Number | Event Date | Location | Country | Latitude | Longitude | Airport Code | Airport Name | Injury Severity | Aircraft Damage | Aircraft Category | Registration Number | Make | Model | Amateur Built | Number of Engines | Engine Type | FAR Description | Schedule | Purpose of Flight | Air Carrier | Total Fatal Injuries | Total Serious Injuries | Total Minor Injuries | Total Uninjured | Weather Condition | Broad Phase of Flight | Report Status | Publication Date |\n",
    "20150908X74637 | Accident | CEN15LA402 | 09/08/2015 | Freeport, IL | United States | 42.246111 | -89.581945 | KFEP | albertus Airport | Non-Fatal | Substantial | Unknown | N24TL | CLARKE REGINALD W | DRAGONFLY MK |  |  |  | Part 91: General Aviation |  | Personal |  |  | 1 |  |  | VMC | TAKEOFF | Preliminary | 09/09/2015 |\n",
    "20150906X32704 | Accident | ERA15LA339 | 09/05/2015 | Laconia, NH | United States | 43.606389 | -71.452778 | LCI | Laconia Municipal Airport | Fatal(1) | Substantial | Weight-Shift | N2264X | EVOLUTION AIRCRAFT INC | REVO | No | 1 | Reciprocating | Part 91: General Aviation |  | Personal |  | 1 |  |  |  | VMC | MANEUVERING | Preliminary | 09/10/2015 |\n",
    "20150908X00229 | Accident | GAA15CA251 | 09/04/2015 | Hayes, SD | United States |  |  |  |  |  |  |  | N321DA | AIR TRACTOR INC | AT 402A |  |  |  |  |  |  |  |  |  |  |  |  |  | Preliminary |  |\n",
    "\n",
    "As we can see, the file isn't in CSV format; it separates the fields with a pipe character (|) instead. In the following exercise, you'll need to do some custom parsing to read in AviationData.txt. Each row contains data about a single aviation accident. Here are descriptions for some of the columns:\n",
    "\n",
    "Event Id - The unique id for the incident\n",
    "\n",
    "Investigation Type - The type of investigation the NTSB conducted\n",
    "\n",
    "Event Date - The date of the accident\n",
    "\n",
    "Location - Where the accident occurred\n",
    "\n",
    "Country - The country where the accident occurred\n",
    "\n",
    "Latitude - The latitude where the accident occurred\n",
    "\n",
    "Longitude - The longitude where the accident occurred\n",
    "\n",
    "Injury Severity - The severity of any injuries\n",
    "\n",
    "Aircraft Damage - The extent of the damage to the aircraft\n",
    "\n",
    "Aircraft Category - The type of aircraft\n",
    "\n",
    "Make - The make of the aircraft\n",
    "\n",
    "Model - The model of the aircraft\n",
    "\n",
    "Number of Engines - The number of engines on the plane\n",
    "\n",
    "Air Carrier - The carrier operating the aircraft\n",
    "\n",
    "Total Fatal Injuries - The number of fatal injuries\n",
    "\n",
    "Total Serious Injuries - The number of serious injuries\n",
    "\n",
    "Total Minor Injuries - The number of minor injuries\n",
    "\n",
    "Total Uninjured - The number of people who did not sustain injuries\n",
    "\n",
    "Broad Phase of Flight - The phase of flight during which the accident occurred\n"
   ]
  },
  {
   "cell_type": "markdown",
   "metadata": {},
   "source": [
    "## Step 1 - Instructions\n",
    "\n",
    "1. Use the head and tail commands to explore AviationData.txt on the command line.\n",
    "2. Open the empty Python script read.py.\n",
    "3. In read.py, open AviationData.txt and read each line into a list.\n",
    "        When you're finished, you should have a list of strings, each of which represents one line from AviationData.txt.\n",
    "        Assign the result to aviation_data.\n",
    "4. Loop through each item in aviation_data and split it on the pipe character (|). ## be careful! \" | \"\n",
    "        After the loop completes, you should have a list of lists. Each inner list should be a single row.\n",
    "        Assign the result to aviation_list.\n",
    "5. Create a list named lax_code.\n",
    "6. Search through aviation_list for LAX94LA336. This value could be in any column and in any row.\n",
    "        When you find the value, append the entire row to lax_code.\n",
    "7. Were there any downsides to the approach you just took to search through AviationData.txt? Write some text explaining your answer."
   ]
  },
  {
   "cell_type": "code",
   "execution_count": 16,
   "metadata": {},
   "outputs": [
    {
     "name": "stdout",
     "output_type": "stream",
     "text": [
      "77283\n",
      "[['Event Id', 'Investigation Type', 'Accident Number', 'Event Date', 'Location', 'Country', 'Latitude', 'Longitude', 'Airport Code', 'Airport Name', 'Injury Severity', 'Aircraft Damage', 'Aircraft Category', 'Registration Number', 'Make', 'Model', 'Amateur Built', 'Number of Engines', 'Engine Type', 'FAR Description', 'Schedule', 'Purpose of Flight', 'Air Carrier', 'Total Fatal Injuries', 'Total Serious Injuries', 'Total Minor Injuries', 'Total Uninjured', 'Weather Condition', 'Broad Phase of Flight', 'Report Status', 'Publication Date', ''], ['20150908X74637', 'Accident', 'CEN15LA402', '09/08/2015', 'Freeport, IL', 'United States', '42.246111', '-89.581945', 'KFEP', 'albertus Airport', 'Non-Fatal', 'Substantial', 'Unknown', 'N24TL', 'CLARKE REGINALD W', 'DRAGONFLY MK', '', '', '', 'Part 91: General Aviation', '', 'Personal', '', '', '1', '', '', 'VMC', 'TAKEOFF', 'Preliminary', '09/09/2015', ''], ['20150906X32704', 'Accident', 'ERA15LA339', '09/05/2015', 'Laconia, NH', 'United States', '43.606389', '-71.452778', 'LCI', 'Laconia Municipal Airport', 'Fatal(1)', 'Substantial', 'Weight-Shift', 'N2264X', 'EVOLUTION AIRCRAFT INC', 'REVO', 'No', '1', 'Reciprocating', 'Part 91: General Aviation', '', 'Personal', '', '1', '', '', '', 'VMC', 'MANEUVERING', 'Preliminary', '09/10/2015', ''], ['20150908X00229', 'Accident', 'GAA15CA251', '09/04/2015', 'Hayes, SD', 'United States', '', '', '', '', '', '', '', 'N321DA', 'AIR TRACTOR INC', 'AT 402A', '', '', '', '', '', '', '', '', '', '', '', '', '', 'Preliminary', '', ''], ['20150903X33216', 'Accident', 'WPR15FA256', '09/03/2015', 'Santee, CA', 'United States', '32.829445', '-116.988611', 'SEE', 'GILLESPIE FIELD', 'Fatal(2)', 'Substantial', 'Airplane', 'N8441B', 'PIPER', 'PA28', 'No', '1', 'Reciprocating', 'Part 91: General Aviation', '', 'Instructional', '', '2', '', '', '', 'VMC', 'TAKEOFF', 'Preliminary', '09/09/2015', '']]\n"
     ]
    }
   ],
   "source": [
    "## read the file\n",
    "with open('AviationData.txt', 'r') as f:\n",
    "    text = f.read()\n",
    "aviation_data = text.split(\"\\n\")\n",
    "aviation_list = []\n",
    "for row in aviation_data:\n",
    "    row_split = row.split(\"|\")\n",
    "    row_split_strip = [item.strip() for item in row_split]\n",
    "    aviation_list.append(row_split_strip)\n",
    "    \n",
    "## Looking at the data\n",
    "length = len(aviation_list)\n",
    "head_data = aviation_list[:5]\n",
    "print(length)\n",
    "print(head_data)\n",
    "    "
   ]
  },
  {
   "cell_type": "code",
   "execution_count": 34,
   "metadata": {},
   "outputs": [
    {
     "name": "stdout",
     "output_type": "stream",
     "text": [
      "0.14743304252624512\n",
      "1\n",
      "[['20001218X45447', 'Accident', 'LAX94LA336', '07/19/1962', 'BRIDGEPORT, CA', 'United States', '', '', '', '', 'Fatal(4)', 'Destroyed', '', 'N5069P', 'PIPER', 'PA24-180', 'No', '1', 'Reciprocating', '', '', 'Personal', '', '4', '0', '0', '0', 'UNK', 'UNKNOWN', 'Probable Cause', '09/19/1996', '']]\n"
     ]
    }
   ],
   "source": [
    "##Search for \"LAX94LA336\" - lazay method\n",
    "import time\n",
    "start_time = time.time()\n",
    "lax_code = []\n",
    "for row in aviation_list:\n",
    "    for item in row:\n",
    "        if item == \"LAX94LA336\":\n",
    "            lax_code.append(row)\n",
    "            break\n",
    "print(time.time()-start_time)\n",
    "print(len(lax_code))\n",
    "print(lax_code)\n",
    "\n"
   ]
  },
  {
   "cell_type": "code",
   "execution_count": 35,
   "metadata": {},
   "outputs": [
    {
     "name": "stdout",
     "output_type": "stream",
     "text": [
      "72.1 ms ± 4.95 ms per loop (mean ± std. dev. of 7 runs, 10 loops each)\n"
     ]
    }
   ],
   "source": [
    "%%timeit\n",
    "lax_code = []\n",
    "for row in aviation_list:\n",
    "    for item in row:\n",
    "        if item == \"LAX94LA336\":\n",
    "            lax_code.append(row)\n",
    "            break\n",
    "\n"
   ]
  },
  {
   "cell_type": "markdown",
   "metadata": {},
   "source": [
    "## Step 2 - Instructions - Linear and Log Time Algorithm\n",
    "\n",
    "The algorithm you wrote on the previous screen took exponential time. That's because it had to loop through each row first, and then each column inside that row.\n",
    "\n",
    "There are ways to make the algorithm take linear and constant time while we still scan across the whole data set, though.\n",
    "\n",
    "1. Write a linear time algorithm that searches each row in aviation_data for the string LAX94LA336. # search on the 3rd column\n",
    "2. Try writing a log(n) time algorithm that searches AviationData.txt for the string LAX94LA336. # binary search on sorted list\n",
    "3. What are the trade-offs between the different approaches? Write some text explaining your answer."
   ]
  },
  {
   "cell_type": "code",
   "execution_count": 37,
   "metadata": {},
   "outputs": [
    {
     "name": "stdout",
     "output_type": "stream",
     "text": [
      "[['20001218X45447', 'Accident', 'LAX94LA336', '07/19/1962', 'BRIDGEPORT, CA', 'United States', '', '', '', '', 'Fatal(4)', 'Destroyed', '', 'N5069P', 'PIPER', 'PA24-180', 'No', '1', 'Reciprocating', '', '', 'Personal', '', '4', '0', '0', '0', 'UNK', 'UNKNOWN', 'Probable Cause', '09/19/1996', '']]\n"
     ]
    }
   ],
   "source": [
    "# Linear Search - fixed column\n",
    "lax_code_linear = []\n",
    "for row in aviation_list:\n",
    "    if row[2] == \"LAX94LA336\":\n",
    "        lax_code_linear.append(row)\n",
    "        break\n",
    "\n",
    "print(lax_code_linear)"
   ]
  },
  {
   "cell_type": "code",
   "execution_count": 54,
   "metadata": {},
   "outputs": [
    {
     "name": "stdout",
     "output_type": "stream",
     "text": [
      "14.2 ms ± 1.25 ms per loop (mean ± std. dev. of 7 runs, 100 loops each)\n"
     ]
    }
   ],
   "source": [
    "%%timeit ## O(n)\n",
    "lax_code_linear = []\n",
    "for row in aviation_list:\n",
    "    if row[2] == \"LAX94LA336\":\n",
    "        lax_code_linear.append(row)\n",
    "        break"
   ]
  },
  {
   "cell_type": "code",
   "execution_count": 46,
   "metadata": {},
   "outputs": [
    {
     "name": "stdout",
     "output_type": "stream",
     "text": [
      "[['20001218X45447', 'Accident', 'LAX94LA336', '07/19/1962', 'BRIDGEPORT, CA', 'United States', '', '', '', '', 'Fatal(4)', 'Destroyed', '', 'N5069P', 'PIPER', 'PA24-180', 'No', '1', 'Reciprocating', '', '', 'Personal', '', '4', '0', '0', '0', 'UNK', 'UNKNOWN', 'Probable Cause', '09/19/1996', '']]\n"
     ]
    }
   ],
   "source": [
    "# Log Search - fixed column and binary search on the dataset ordered by the 3rd column\n",
    "aviation_list_clean = []\n",
    "for row in aviation_list:\n",
    "    if len(row)>=3:\n",
    "        aviation_list_clean.append(row)\n",
    "        \n",
    "aviation_list_sorted = sorted(aviation_list_clean, key=lambda row: row[2])\n",
    "\n",
    "lax_code_log = []\n",
    "lower_bound = 0\n",
    "upper_bound = len(aviation_list_sorted)\n",
    "index = (lower_bound + upper_bound)//2\n",
    "guess = aviation_list_sorted[index][2]\n",
    "while guess != \"LAX94LA336\" and upper_bound>lower_bound:\n",
    "    if guess > \"LAX94LA336\":\n",
    "        upper_bound = index - 1\n",
    "    elif guess < \"LAX94LA336\":\n",
    "        lower_bound = index + 1\n",
    "    index = (lower_bound + upper_bound)//2\n",
    "    guess = aviation_list_sorted[index][2]\n",
    "\n",
    "if guess == \"LAX94LA336\":\n",
    "    lax_code_log.append(aviation_list_sorted[index])\n",
    "else:\n",
    "    print(\"Not Found!\")\n",
    "\n",
    "print(lax_code_log)"
   ]
  },
  {
   "cell_type": "code",
   "execution_count": 51,
   "metadata": {},
   "outputs": [
    {
     "name": "stdout",
     "output_type": "stream",
     "text": [
      "4.29 µs ± 267 ns per loop (mean ± std. dev. of 7 runs, 100000 loops each)\n"
     ]
    }
   ],
   "source": [
    "%%timeit ## O(logn)\n",
    "lax_code_log = []\n",
    "lower_bound = 0\n",
    "upper_bound = len(aviation_list_sorted)\n",
    "index = (lower_bound + upper_bound)//2\n",
    "guess = aviation_list_sorted[index][2]\n",
    "while guess != \"LAX94LA336\" and upper_bound>lower_bound:\n",
    "    if guess > \"LAX94LA336\":\n",
    "        upper_bound = index - 1\n",
    "    elif guess < \"LAX94LA336\":\n",
    "        lower_bound = index + 1\n",
    "    index = (lower_bound + upper_bound)//2\n",
    "    guess = aviation_list_sorted[index][2]\n",
    "\n",
    "if guess == \"LAX94LA336\":\n",
    "    lax_code_log.append(aviation_list_sorted[index])\n",
    "else:\n",
    "    print(\"Not Found!\")"
   ]
  },
  {
   "cell_type": "code",
   "execution_count": 52,
   "metadata": {},
   "outputs": [
    {
     "name": "stdout",
     "output_type": "stream",
     "text": [
      "18.3 ms ± 643 µs per loop (mean ± std. dev. of 7 runs, 10 loops each)\n"
     ]
    }
   ],
   "source": [
    "%%timeit ## O(n)\n",
    "aviation_list_clean = []\n",
    "for row in aviation_list:\n",
    "    if len(row)>=3:\n",
    "        aviation_list_clean.append(row)"
   ]
  },
  {
   "cell_type": "code",
   "execution_count": 53,
   "metadata": {},
   "outputs": [
    {
     "name": "stdout",
     "output_type": "stream",
     "text": [
      "51.4 ms ± 4.33 ms per loop (mean ± std. dev. of 7 runs, 10 loops each)\n"
     ]
    }
   ],
   "source": [
    "%%timeit ## O(nlogn)\n",
    "aviation_list_sorted = sorted(aviation_list_clean, key=lambda row: row[2])"
   ]
  },
  {
   "cell_type": "markdown",
   "metadata": {},
   "source": [
    "## Step 3 - Instructions - Hash Tables\n",
    "\n",
    "So far, you've stored the data as a list of strings and a list of lists. You can also store the data as a list of dictionaries.\n",
    "\n",
    "1. Create an empty list and name it aviation_dict_list.\n",
    "2. Loop through each item in aviation_data and split it on the pipe character (|).\n",
    "\n",
    "    Convert the split row to a dictionary. The dictionary should use the columns names as keys, and their values as its own values. Here's an example of a single item:\n",
    "        {\"Event Id\": \"20150908X74637\", \"Investigation Type\": \"Accident\", ...}\n",
    "\n",
    "    Append the result to aviation_dict_list.\n",
    "    Create an empty list and name it lax_dict.\n",
    "    Search through aviation_dict_list for LAX94LA336. This value could be in any key in any dictionary.\n",
    "    When you find the value, append the entire dictionary to lax_dict.\n",
    "    Was it harder or easier to search through a list of dictionaries than a list of lists? Write your thoughts in a text file.\n",
    "\n"
   ]
  },
  {
   "cell_type": "code",
   "execution_count": 103,
   "metadata": {
    "collapsed": true
   },
   "outputs": [],
   "source": [
    "aviation_dict_list = []\n",
    "header_split = aviation_data[0].split(\"|\") ## header\n",
    "header_list = [item.strip() for item in header_split]\n",
    "for row in aviation_data[1:]: ## Non-header\n",
    "    row_split = row.split(\"|\")\n",
    "    row_split_strip = [item.strip() for item in row_split]\n",
    "    row_dict = {header_list[i]:row_split_strip[i] for i in range(len(row_split_strip))} \n",
    "    aviation_dict_list.append(row_dict)"
   ]
  },
  {
   "cell_type": "code",
   "execution_count": 111,
   "metadata": {},
   "outputs": [
    {
     "name": "stdout",
     "output_type": "stream",
     "text": [
      "[{'Event Id': '20001218X45447', 'Investigation Type': 'Accident', 'Accident Number': 'LAX94LA336', 'Event Date': '07/19/1962', 'Location': 'BRIDGEPORT, CA', 'Country': 'United States', 'Latitude': '', 'Longitude': '', 'Airport Code': '', 'Airport Name': '', 'Injury Severity': 'Fatal(4)', 'Aircraft Damage': 'Destroyed', 'Aircraft Category': '', 'Registration Number': 'N5069P', 'Make': 'PIPER', 'Model': 'PA24-180', 'Amateur Built': 'No', 'Number of Engines': '1', 'Engine Type': 'Reciprocating', 'FAR Description': '', 'Schedule': '', 'Purpose of Flight': 'Personal', 'Air Carrier': '', 'Total Fatal Injuries': '4', 'Total Serious Injuries': '0', 'Total Minor Injuries': '0', 'Total Uninjured': '0', 'Weather Condition': 'UNK', 'Broad Phase of Flight': 'UNKNOWN', 'Report Status': 'Probable Cause', 'Publication Date': '09/19/1996', '': ''}]\n"
     ]
    }
   ],
   "source": [
    "lax_dict = []\n",
    "for row in aviation_dict_list:\n",
    "    try: \n",
    "        if row['Accident Number'] == \"LAX94LA336\":\n",
    "            lax_dict.append(row)\n",
    "            break\n",
    "    except:\n",
    "        pass\n",
    "    \n",
    "print(lax_dict)\n",
    "    "
   ]
  },
  {
   "cell_type": "code",
   "execution_count": 112,
   "metadata": {},
   "outputs": [
    {
     "name": "stdout",
     "output_type": "stream",
     "text": [
      "26.4 ms ± 3.44 ms per loop (mean ± std. dev. of 7 runs, 10 loops each)\n"
     ]
    }
   ],
   "source": [
    "%%timeit ## time calculation\n",
    "lax_dict = []\n",
    "for row in aviation_dict_list:\n",
    "    try: \n",
    "        if row['Accident Number'] == \"LAX94LA336\":\n",
    "            lax_dict.append(row)\n",
    "            break\n",
    "    except:\n",
    "        pass"
   ]
  },
  {
   "cell_type": "markdown",
   "metadata": {},
   "source": [
    "### thoughts on step - 3\n",
    "| Method | Timeit | Complexity |\n",
    "| --- | --- | --- |\n",
    "| nested loop | 72ms | O(mxn) |\n",
    "| Linear Search - list | 14.2ms | O(n) |\n",
    "| Binary Search - list | 4.29us | O(logn) |\n",
    "| Sorted - list | 51.4ms | O(nlogn) |\n",
    "| linear - dict - list | 26.4ms | O(n) |\n"
   ]
  },
  {
   "cell_type": "markdown",
   "metadata": {},
   "source": [
    "## Step 4 - Instructions - Accidents by U.S. State\n",
    "\n",
    "You now have two representations of the data - aviation_dict_list and aviation_list. In the analysis on the next few screens, feel free to choose the representation that makes the analysis the easiest.\n",
    "\n",
    "On this screen, you'll count how many accidents occurred in each U.S. state, then determine which state had the most accidents overall.\n",
    "\n",
    "1. Count up how many accidents occurred in each U.S. state, and assign the result to state_accidents.\n",
    "    You can parse the state by splitting the Location field and extracting the state.\n",
    "2. Sort state_accidents, and extract the name of the state with the most aviation accidents."
   ]
  },
  {
   "cell_type": "code",
   "execution_count": 119,
   "metadata": {},
   "outputs": [],
   "source": [
    "state_list = [] ## extract state from each row\n",
    "for row in aviation_dict_list:\n",
    "    try:\n",
    "        state = row['Location'].split(',')[1].strip()\n",
    "        state_list.append(state)\n",
    "    except:\n",
    "        pass\n",
    "        "
   ]
  },
  {
   "cell_type": "code",
   "execution_count": 120,
   "metadata": {},
   "outputs": [
    {
     "name": "stdout",
     "output_type": "stream",
     "text": [
      "[('CA', 8029), ('FL', 5117), ('TX', 5112), ('AK', 5049), ('AZ', 2502), ('CO', 2458), ('WA', 2354), ('IL', 1874), ('MI', 1863), ('GA', 1746)]\n"
     ]
    }
   ],
   "source": [
    "state_accident_counts = {} ## counts for each state with loop\n",
    "for st in state_list:\n",
    "    if st in state_accident_counts:\n",
    "        state_accident_counts[st] += 1\n",
    "    else:\n",
    "        state_accident_counts[st] = 1\n",
    "        \n",
    "state_accident_counts_sorted = sorted(state_accident_counts.items(), key=lambda x: x[1], reverse=True)  ## sort dict by value    \n",
    "print(state_accident_counts_sorted[:10]) ## display the first 10 states with most accident"
   ]
  },
  {
   "cell_type": "code",
   "execution_count": 123,
   "metadata": {},
   "outputs": [
    {
     "data": {
      "text/plain": [
       "[('CA', 8029),\n",
       " ('FL', 5117),\n",
       " ('TX', 5112),\n",
       " ('AK', 5049),\n",
       " ('AZ', 2502),\n",
       " ('CO', 2458),\n",
       " ('WA', 2354),\n",
       " ('IL', 1874),\n",
       " ('MI', 1863),\n",
       " ('GA', 1746)]"
      ]
     },
     "execution_count": 123,
     "metadata": {},
     "output_type": "execute_result"
    }
   ],
   "source": [
    "## counts for each state with \"Counter\" class\n",
    "from collections import Counter\n",
    "counter_state = Counter(state_list)\n",
    "counter_state.most_common(10)"
   ]
  },
  {
   "cell_type": "markdown",
   "metadata": {},
   "source": [
    "## Step 5 - Instructions - Fatalities and Injuries by Month\n",
    "\n",
    "You can also count how many fatalities and serious injuries occurred during each month.\n",
    "\n",
    "1. Count how many fatalities and serious injuries occured during each unique month and year, and assign the result to monthly_injuries.\n",
    "    You can parse the date by splitting the Event Date column and extracting the month number.\n",
    "    Total the fatalities and serious injuries by adding the numbers in the Total Fatal Injuries and Total Serious Injuries columns.\n",
    "    These columns are blank for months with no fatalities or serious injuries, so you'll have to replace those empty slots with 0.\n",
    "2. Turn monthly_injuries into two lists - one with the month names, and one with the counts.\n",
    "3. Implement a clever way of displaying these lists so you can understand the number of fatalities and serious injuries per month.\n"
   ]
  },
  {
   "cell_type": "code",
   "execution_count": null,
   "metadata": {
    "collapsed": true
   },
   "outputs": [],
   "source": []
  },
  {
   "cell_type": "markdown",
   "metadata": {},
   "source": [
    "## Step 6 - Instructions - What's Next\n",
    "\n",
    "1. Map out accidents using the basemap library for matplotlib.\n",
    "2. Count the number of accidents by air carrier.\n",
    "3. Count the number of accidents by airplane make and model.\n",
    "4. Figure out what percentage of accidents occur under adverse weather conditions."
   ]
  },
  {
   "cell_type": "code",
   "execution_count": null,
   "metadata": {},
   "outputs": [],
   "source": []
  }
 ],
 "metadata": {
  "kernelspec": {
   "display_name": "Python 3",
   "language": "python",
   "name": "python3"
  },
  "language_info": {
   "codemirror_mode": {
    "name": "ipython",
    "version": 3
   },
   "file_extension": ".py",
   "mimetype": "text/x-python",
   "name": "python",
   "nbconvert_exporter": "python",
   "pygments_lexer": "ipython3",
   "version": "3.6.3"
  }
 },
 "nbformat": 4,
 "nbformat_minor": 2
}
